{
 "cells": [
  {
   "cell_type": "code",
   "execution_count": 40,
   "metadata": {},
   "outputs": [],
   "source": [
    "import requests\n",
    "import xml.etree.ElementTree as ET\n",
    "from google.transit import gtfs_realtime_pb2"
   ]
  },
  {
   "cell_type": "code",
   "execution_count": 41,
   "metadata": {},
   "outputs": [],
   "source": [
    "username = \"8604566007446482\"\n",
    "password = \"4WMZWlgtZUfbF2FhOBurw57FoBEgGEm2\"\n",
    "\n",
    "url = \"https://data.waltti.fi/tampere/api/gtfsrealtime/v1.0/feed/vehicleposition\""
   ]
  },
  {
   "cell_type": "code",
   "execution_count": 42,
   "metadata": {},
   "outputs": [],
   "source": [
    "feed = gtfs_realtime_pb2.FeedMessage()"
   ]
  },
  {
   "cell_type": "code",
   "execution_count": 43,
   "metadata": {},
   "outputs": [
    {
     "data": {
      "text/plain": [
       "31590"
      ]
     },
     "execution_count": 43,
     "metadata": {},
     "output_type": "execute_result"
    }
   ],
   "source": [
    "response = requests.get(url, auth=(username, password))\n",
    "feed.ParseFromString(response.content)"
   ]
  },
  {
   "cell_type": "code",
   "execution_count": 44,
   "metadata": {},
   "outputs": [],
   "source": [
    "for entity in feed.entity:\n",
    "    if entity.id == \"3012_MiCa\":\n",
    "        entity_301 = entity.vehicle\n",
    "    if entity.id == \"3012_Karsan\":\n",
    "        entity_303 = entity.vehicle"
   ]
  },
  {
   "cell_type": "code",
   "execution_count": 45,
   "metadata": {},
   "outputs": [
    {
     "data": {
      "text/plain": [
       "trip {\n",
       "  trip_id: \"69_14772_8714957\"\n",
       "  route_id: \"3013012\"\n",
       "  direction_id: 1\n",
       "  start_time: \"13:50:00\"\n",
       "  start_date: \"20240919\"\n",
       "  schedule_relationship: SCHEDULED\n",
       "}\n",
       "vehicle {\n",
       "  id: \"3012_MiCa\"\n",
       "  label: \"Lintuhytti\"\n",
       "}\n",
       "position {\n",
       "  latitude: 61.4396515\n",
       "  longitude: 23.8766289\n",
       "  bearing: 71.2\n",
       "  speed: 5.61\n",
       "}\n",
       "current_stop_sequence: 2\n",
       "stop_id: \"3617\"\n",
       "current_status: IN_TRANSIT_TO\n",
       "timestamp: 1726743078\n",
       "congestion_level: UNKNOWN_CONGESTION_LEVEL"
      ]
     },
     "execution_count": 45,
     "metadata": {},
     "output_type": "execute_result"
    }
   ],
   "source": [
    "entity_301"
   ]
  },
  {
   "cell_type": "code",
   "execution_count": 38,
   "metadata": {},
   "outputs": [],
   "source": [
    "def write_line_to_csv(entity, line_id):\n",
    "    timestamp = entity.timestamp\n",
    "    start_time = entity.trip.start_time\n",
    "    start_date = entity.trip.start_date\n",
    "    lat = entity.position.latitude\n",
    "    lon = entity.position.longitude\n",
    "    bearing = entity.position.bearing\n",
    "    speed = entity.position.speed\n",
    "    direction = entity.trip.direction_id\n",
    "    schedule_relationship = entity.trip.schedule_relationship\n",
    "    current_stop_sequence = entity.current_stop_sequence\n",
    "    stop_id = entity.stop_id\n",
    "    current_status = entity.current_status\n",
    "\n",
    "    csv_string = f\"{timestamp},{start_time},{start_date},{lat},{lon},{bearing},{speed},{direction},{schedule_relationship},{current_stop_sequence},{stop_id},{current_status}\"\n",
    "\n",
    "    f = open(f\"tampere_{line_id}.csv\", \"a\")\n",
    "    f.write(csv_string + \"\\n\")\n",
    "    f.close()"
   ]
  },
  {
   "cell_type": "code",
   "execution_count": 39,
   "metadata": {},
   "outputs": [],
   "source": [
    "write_line_to_csv(entity_301, 301)"
   ]
  },
  {
   "cell_type": "code",
   "execution_count": null,
   "metadata": {},
   "outputs": [],
   "source": []
  }
 ],
 "metadata": {
  "kernelspec": {
   "display_name": "api_env",
   "language": "python",
   "name": "python3"
  },
  "language_info": {
   "codemirror_mode": {
    "name": "ipython",
    "version": 3
   },
   "file_extension": ".py",
   "mimetype": "text/x-python",
   "name": "python",
   "nbconvert_exporter": "python",
   "pygments_lexer": "ipython3",
   "version": "3.9.18"
  }
 },
 "nbformat": 4,
 "nbformat_minor": 2
}
