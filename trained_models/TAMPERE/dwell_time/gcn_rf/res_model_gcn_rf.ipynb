{
 "cells": [
  {
   "cell_type": "code",
   "execution_count": 1,
   "metadata": {},
   "outputs": [
    {
     "name": "stderr",
     "output_type": "stream",
     "text": [
      "/home/manity/SHOW_folder/SHOW_ML_Service/envs/show_env1/lib/python3.9/site-packages/tqdm/auto.py:21: TqdmWarning: IProgress not found. Please update jupyter and ipywidgets. See https://ipywidgets.readthedocs.io/en/stable/user_install.html\n",
      "  from .autonotebook import tqdm as notebook_tqdm\n"
     ]
    }
   ],
   "source": [
    "import sys\n",
    "sys.path.append('../../../../../src')\n",
    "import os\n",
    "import torch\n",
    "from pytorch_lightning.callbacks import ModelCheckpoint\n",
    "import pytorch_lightning as pl\n",
    "import numpy as np\n",
    "import matplotlib.pyplot as plt\n",
    "import pandas as pd\n",
    "\n",
    "from data.datamodule import SHOWDataModule\n",
    "from models.gcn_model import NodeEncodedGCN, NodeEncodedGCN_tt, NodeEncodedGCN_1l, NodeEncodedGCN_2l, NodeEncodedGCN_3l\n",
    "\n",
    "\n",
    "def simple_model_evaluation(y_test, y_pred_test):\n",
    "    # Simple model evaluation that computes and prints MSE, RMSE and MAPE for the training and testing set\n",
    "\n",
    "    # train_error_mse = np.square(y_train - y_pred_train).sum() / y_train.shape[0]\n",
    "    test_error_mse = np.square(y_test - y_pred_test).sum() / y_test.shape[0]\n",
    "\n",
    "    # train_error_mape = (100 / y_train.shape[0]) * (\n",
    "    #    np.absolute(y_train - y_pred_train) / y_train\n",
    "    # ).sum()  # y_train should never be 0 since the travel time in a segment cannot be 0\n",
    "    test_error_mape = (100 / y_test.shape[0]) * (np.absolute(y_test - y_pred_test) / y_test).sum()\n",
    "\n",
    "    test_error_mae = (1 / y_test.shape[0]) * (np.absolute(y_test - y_pred_test)).sum()\n",
    "    print(\"-----------MSE----------\")\n",
    "    # print(\"Training error: {}\".format(train_error_mse))\n",
    "    print(\"Testing error: {}\".format(test_error_mse))\n",
    "    print(\"-----------RMSE----------\")\n",
    "    # print(\"Training error: {}\".format(np.sqrt(train_error_mse)))\n",
    "    print(\"Testing error: {}\".format(np.sqrt(test_error_mse)))\n",
    "    print(\"-----------MAPE----------\")\n",
    "    # print(\"Training error: {:.2f} %\".format(train_error_mape))\n",
    "    print(\"Testing error: {:.2f} %\".format(test_error_mape))\n",
    "    print(\"-----------MAE----------\")\n",
    "    print(\"Testing error: {}\".format(test_error_mae))\n",
    "    return test_error_mse, np.sqrt(test_error_mse), test_error_mape, test_error_mae\n",
    "\n"
   ]
  },
  {
   "cell_type": "code",
   "execution_count": 2,
   "metadata": {},
   "outputs": [
    {
     "name": "stdout",
     "output_type": "stream",
     "text": [
      "** Removing zero obs based on RF classifier ***\n",
      "Confusion matrix train: [2585    0    0 3343]\n",
      "Confusion matrix test: [265 111  72 320]\n"
     ]
    }
   ],
   "source": [
    "# Path for the checkpoint directory\n",
    "\n",
    "# Load the datamodule\n",
    "site_name = 'TAMPERE_FINAL'\n",
    "transform_type = 'maxmin'\n",
    "batch_size = 64\n",
    "empty_graph = False\n",
    "time_kind = 'dwell_times'\n",
    "data_module = SHOWDataModule(\n",
    "    site_name=site_name,\n",
    "    transform=transform_type,\n",
    "    num_lags=2,\n",
    "    train_frac=0.9,\n",
    "    batch_size=batch_size,\n",
    "    empty_graph=empty_graph,\n",
    "    verbose=False,\n",
    "    time_kind=time_kind,\n",
    ")\n",
    "transform = data_module.setup()\n",
    "\n",
    "data_module_rf = SHOWDataModule(\n",
    "    site_name=site_name,\n",
    "    transform=transform_type,\n",
    "    num_lags=2,\n",
    "    train_frac=0.9,\n",
    "    batch_size=batch_size,\n",
    "    empty_graph=empty_graph,\n",
    "    verbose=False,\n",
    "    time_kind=time_kind,\n",
    "    rf_remove_zero_obs=True,\n",
    "    \n",
    ")\n",
    "transform_rf = data_module_rf.setup()"
   ]
  },
  {
   "cell_type": "code",
   "execution_count": 3,
   "metadata": {},
   "outputs": [],
   "source": [
    "model_names = os.listdir('.')\n",
    "# remove any files that don't end with .ckpt\n",
    "model_names = [name for name in model_names if name.endswith('.ckpt')]"
   ]
  },
  {
   "cell_type": "code",
   "execution_count": 4,
   "metadata": {},
   "outputs": [
    {
     "data": {
      "text/plain": [
       "['ne_gcn-5124-07271142.ckpt',\n",
       " 'ne_gcn-4239-07271142.ckpt',\n",
       " 'ne_gcn-6105-07271142.ckpt',\n",
       " 'ne_gcn-9788-07271142.ckpt']"
      ]
     },
     "execution_count": 4,
     "metadata": {},
     "output_type": "execute_result"
    }
   ],
   "source": [
    "model_names"
   ]
  },
  {
   "cell_type": "code",
   "execution_count": 5,
   "metadata": {},
   "outputs": [
    {
     "name": "stdout",
     "output_type": "stream",
     "text": [
      "ne_gcn-5124-07271142.ckpt\n"
     ]
    },
    {
     "name": "stderr",
     "output_type": "stream",
     "text": [
      "/home/manity/SHOW_folder/SHOW_ML_Service/envs/show_env1/lib/python3.9/site-packages/pytorch_lightning/trainer/connectors/accelerator_connector.py:478: LightningDeprecationWarning: Setting `Trainer(gpus=1)` is deprecated in v1.7 and will be removed in v2.0. Please use `Trainer(accelerator='gpu', devices=1)` instead.\n",
      "  rank_zero_deprecation(\n",
      "GPU available: True (cuda), used: True\n",
      "TPU available: False, using: 0 TPU cores\n",
      "IPU available: False, using: 0 IPUs\n",
      "HPU available: False, using: 0 HPUs\n",
      "You are using a CUDA device ('NVIDIA GeForce RTX 3080 Ti') that has Tensor Cores. To properly utilize them, you should set `torch.set_float32_matmul_precision('medium' | 'high')` which will trade-off precision for performance. For more details, read https://pytorch.org/docs/stable/generated/torch.set_float32_matmul_precision.html#torch.set_float32_matmul_precision\n",
      "LOCAL_RANK: 0 - CUDA_VISIBLE_DEVICES: [0,1]\n",
      "/home/manity/SHOW_folder/SHOW_ML_Service/envs/show_env1/lib/python3.9/site-packages/pytorch_lightning/trainer/connectors/data_connector.py:224: PossibleUserWarning: The dataloader, predict_dataloader 0, does not have many workers which may be a bottleneck. Consider increasing the value of the `num_workers` argument` (try 48 which is the number of cpus on this machine) in the `DataLoader` init to improve performance.\n",
      "  rank_zero_warn(\n"
     ]
    },
    {
     "name": "stdout",
     "output_type": "stream",
     "text": [
      "Predicting DataLoader 0: 100%|██████████| 12/12 [00:00<00:00, 14.64it/s]"
     ]
    },
    {
     "name": "stderr",
     "output_type": "stream",
     "text": [
      "/tmp/ipykernel_659032/205311161.py:24: RuntimeWarning: divide by zero encountered in divide\n",
      "  test_error_mape = (100 / y_test.shape[0]) * (np.absolute(y_test - y_pred_test) / y_test).sum()\n",
      "/tmp/ipykernel_659032/205311161.py:24: RuntimeWarning: invalid value encountered in divide\n",
      "  test_error_mape = (100 / y_test.shape[0]) * (np.absolute(y_test - y_pred_test) / y_test).sum()\n",
      "GPU available: True (cuda), used: True\n",
      "TPU available: False, using: 0 TPU cores\n",
      "IPU available: False, using: 0 IPUs\n",
      "HPU available: False, using: 0 HPUs\n",
      "You are using a CUDA device ('NVIDIA GeForce RTX 3080 Ti') that has Tensor Cores. To properly utilize them, you should set `torch.set_float32_matmul_precision('medium' | 'high')` which will trade-off precision for performance. For more details, read https://pytorch.org/docs/stable/generated/torch.set_float32_matmul_precision.html#torch.set_float32_matmul_precision\n",
      "LOCAL_RANK: 0 - CUDA_VISIBLE_DEVICES: [0,1]\n"
     ]
    },
    {
     "name": "stdout",
     "output_type": "stream",
     "text": [
      "\n",
      "****BEFORE RF ZERO FIXING****\n",
      "-----------MSE----------\n",
      "Testing error: 201.42118326822916\n",
      "-----------RMSE----------\n",
      "Testing error: 14.192293094078531\n",
      "-----------MAPE----------\n",
      "Testing error: inf %\n",
      "-----------MAE----------\n",
      "Testing error: 11.50912348429362\n",
      "*****************************\n",
      " *** AFTER RF ZERO FIXING ****\n",
      "-----------MSE----------\n",
      "Testing error: 161.6777140299479\n",
      "-----------RMSE----------\n",
      "Testing error: 12.715255169675043\n",
      "-----------MAPE----------\n",
      "Testing error: nan %\n",
      "-----------MAE----------\n",
      "Testing error: 7.6587982177734375\n",
      "*****************************\n",
      "ne_gcn-4239-07271142.ckpt\n",
      "Predicting DataLoader 0: 100%|██████████| 12/12 [00:00<00:00, 55.84it/s] \n",
      "****BEFORE RF ZERO FIXING****\n",
      "-----------MSE----------\n",
      "Testing error: 197.165771484375\n",
      "-----------RMSE----------\n",
      "Testing error: 14.041572970446545\n",
      "-----------MAPE----------\n",
      "Testing error: inf %\n",
      "-----------MAE----------\n",
      "Testing error: 11.349886576334635\n",
      "*****************************\n",
      " *** AFTER RF ZERO FIXING ****\n",
      "-----------MSE----------\n",
      "Testing error: 161.06620279947916\n",
      "-----------RMSE----------\n",
      "Testing error: 12.691186028085758\n",
      "-----------MAPE----------\n",
      "Testing error: nan %\n",
      "-----------MAE----------\n",
      "Testing error: 7.634818394978841\n",
      "*****************************\n",
      "ne_gcn-6105-07271142.ckpt\n"
     ]
    },
    {
     "name": "stderr",
     "output_type": "stream",
     "text": [
      "GPU available: True (cuda), used: True\n",
      "TPU available: False, using: 0 TPU cores\n",
      "IPU available: False, using: 0 IPUs\n",
      "HPU available: False, using: 0 HPUs\n",
      "You are using a CUDA device ('NVIDIA GeForce RTX 3080 Ti') that has Tensor Cores. To properly utilize them, you should set `torch.set_float32_matmul_precision('medium' | 'high')` which will trade-off precision for performance. For more details, read https://pytorch.org/docs/stable/generated/torch.set_float32_matmul_precision.html#torch.set_float32_matmul_precision\n",
      "LOCAL_RANK: 0 - CUDA_VISIBLE_DEVICES: [0,1]\n"
     ]
    },
    {
     "name": "stdout",
     "output_type": "stream",
     "text": [
      "Predicting DataLoader 0: 100%|██████████| 12/12 [00:00<00:00, 62.39it/s] \n",
      "****BEFORE RF ZERO FIXING****\n",
      "-----------MSE----------\n",
      "Testing error: 197.40608723958334\n",
      "-----------RMSE----------\n",
      "Testing error: 14.05012765919169\n",
      "-----------MAPE----------\n",
      "Testing error: inf %\n",
      "-----------MAE----------\n",
      "Testing error: 11.352307637532551\n",
      "*****************************\n",
      " *** AFTER RF ZERO FIXING ****\n",
      "-----------MSE----------\n",
      "Testing error: 161.21728515625\n",
      "-----------RMSE----------\n",
      "Testing error: 12.697136888143326\n",
      "-----------MAPE----------\n",
      "Testing error: nan %\n",
      "-----------MAE----------\n",
      "Testing error: 7.6663576761881504\n",
      "*****************************\n",
      "ne_gcn-9788-07271142.ckpt\n"
     ]
    },
    {
     "name": "stderr",
     "output_type": "stream",
     "text": [
      "GPU available: True (cuda), used: True\n",
      "TPU available: False, using: 0 TPU cores\n",
      "IPU available: False, using: 0 IPUs\n",
      "HPU available: False, using: 0 HPUs\n",
      "You are using a CUDA device ('NVIDIA GeForce RTX 3080 Ti') that has Tensor Cores. To properly utilize them, you should set `torch.set_float32_matmul_precision('medium' | 'high')` which will trade-off precision for performance. For more details, read https://pytorch.org/docs/stable/generated/torch.set_float32_matmul_precision.html#torch.set_float32_matmul_precision\n",
      "LOCAL_RANK: 0 - CUDA_VISIBLE_DEVICES: [0,1]\n"
     ]
    },
    {
     "name": "stdout",
     "output_type": "stream",
     "text": [
      "Predicting DataLoader 0: 100%|██████████| 12/12 [00:00<00:00, 55.71it/s] \n",
      "****BEFORE RF ZERO FIXING****\n",
      "-----------MSE----------\n",
      "Testing error: 194.2611287434896\n",
      "-----------RMSE----------\n",
      "Testing error: 13.937759100497095\n",
      "-----------MAPE----------\n",
      "Testing error: inf %\n",
      "-----------MAE----------\n",
      "Testing error: 11.148255666097004\n",
      "*****************************\n",
      " *** AFTER RF ZERO FIXING ****\n",
      "-----------MSE----------\n",
      "Testing error: 164.15243530273438\n",
      "-----------RMSE----------\n",
      "Testing error: 12.812198691197947\n",
      "-----------MAPE----------\n",
      "Testing error: nan %\n",
      "-----------MAE----------\n",
      "Testing error: 7.659528096516927\n",
      "*****************************\n"
     ]
    }
   ],
   "source": [
    "results = []\n",
    "# Load model checkpoint\n",
    "for model_name in model_names:\n",
    "    print(model_name)\n",
    "    checkpoint_dict = torch.load(model_name)\n",
    "    model = NodeEncodedGCN_1l(\n",
    "        transform=checkpoint_dict['hyper_parameters']['transform'],\n",
    "        weight_decay=checkpoint_dict['hyper_parameters']['weight_decay'],\n",
    "        lr=checkpoint_dict['hyper_parameters']['lr'],\n",
    "        drop_p=checkpoint_dict['hyper_parameters']['drop_p'],\n",
    "        batch_size=checkpoint_dict['hyper_parameters']['batch_size'],\n",
    "        input_size=checkpoint_dict['hyper_parameters']['input_size'],\n",
    "        hidden_layers=checkpoint_dict['hyper_parameters']['hidden_layers'],\n",
    "        aggregation_function=checkpoint_dict['hyper_parameters']['aggregation_function'],\n",
    "    )\n",
    "    model = model.load_from_checkpoint(model_name)\n",
    "\n",
    "    trainer = pl.Trainer(gpus=1)\n",
    "\n",
    "    output = trainer.predict(model, dataloaders=data_module.test_dataloader())\n",
    "    y_hat = np.concatenate([out[0] for out in output])\n",
    "    y_true = np.concatenate([out[1] for out in output])\n",
    "\n",
    "    #df = pd.DataFrame({'y_true': y_true, 'y_hat': y_hat})\n",
    "    #df.to_csv(f'{model_name}_pred.csv', index=False)\n",
    "\n",
    "    print('****BEFORE RF ZERO FIXING****')\n",
    "    simple_model_evaluation(y_true, y_hat)\n",
    "    print('*****************************')\n",
    "\n",
    "    y_hat_rf = np.zeros_like(y_hat)\n",
    "    y_hat_rf[data_module_rf.non_zero_indices_test] = y_hat[data_module_rf.non_zero_indices_test]\n",
    "    print(' *** AFTER RF ZERO FIXING ****')\n",
    "    temp_res = simple_model_evaluation(y_hat_rf, y_true)\n",
    "    results.append(temp_res)\n",
    "    print('*****************************')"
   ]
  },
  {
   "cell_type": "code",
   "execution_count": 6,
   "metadata": {},
   "outputs": [],
   "source": [
    "results\n",
    "mse_arr = np.array([res[0] for res in results])\n",
    "rmse_arr = np.array([res[1] for res in results])\n",
    "mape_arr = np.array([res[2] for res in results])\n",
    "mae_arr = np.array([res[3] for res in results])"
   ]
  },
  {
   "cell_type": "code",
   "execution_count": 7,
   "metadata": {},
   "outputs": [
    {
     "name": "stdout",
     "output_type": "stream",
     "text": [
      "Results for TAMPERE_FINAL with <class 'data.datamodule.MaxMin'> transform and dwell_times time kind\n",
      "MSE: 162.02840932210285 +/- 1.2468196901464355\n",
      "MAE: 7.654875596364339 +/- 0.011949499998825832\n",
      "RMSE: 12.728944194275519 +/- 0.04887761371456187\n"
     ]
    }
   ],
   "source": [
    "\n",
    "print(f'Results for {site_name} with {type(transform)} transform and {time_kind} time kind')\n",
    "print(f'MSE: {mse_arr.mean()} +/- {mse_arr.std()}')\n",
    "print(f'MAE: {mae_arr.mean()} +/- {mae_arr.std()}')\n",
    "print(f'RMSE: {rmse_arr.mean()} +/- {rmse_arr.std()}')"
   ]
  },
  {
   "cell_type": "code",
   "execution_count": 8,
   "metadata": {},
   "outputs": [],
   "source": [
    "best_model_idx = np.argmin(mse_arr)"
   ]
  },
  {
   "cell_type": "code",
   "execution_count": 9,
   "metadata": {},
   "outputs": [
    {
     "name": "stderr",
     "output_type": "stream",
     "text": [
      "GPU available: True (cuda), used: True\n",
      "TPU available: False, using: 0 TPU cores\n",
      "IPU available: False, using: 0 IPUs\n",
      "HPU available: False, using: 0 HPUs\n",
      "You are using a CUDA device ('NVIDIA GeForce RTX 3080 Ti') that has Tensor Cores. To properly utilize them, you should set `torch.set_float32_matmul_precision('medium' | 'high')` which will trade-off precision for performance. For more details, read https://pytorch.org/docs/stable/generated/torch.set_float32_matmul_precision.html#torch.set_float32_matmul_precision\n",
      "LOCAL_RANK: 0 - CUDA_VISIBLE_DEVICES: [0,1]\n"
     ]
    },
    {
     "name": "stdout",
     "output_type": "stream",
     "text": [
      "Predicting DataLoader 0: 100%|██████████| 12/12 [00:00<00:00, 55.53it/s] \n",
      "****BEFORE RF ZERO FIXING****\n",
      "-----------MSE----------\n",
      "Testing error: 197.165771484375\n",
      "-----------RMSE----------\n",
      "Testing error: 14.041572970446545\n",
      "-----------MAPE----------\n",
      "Testing error: inf %\n",
      "-----------MAE----------\n",
      "Testing error: 11.349886576334635\n",
      "*****************************\n",
      " *** AFTER RF ZERO FIXING ****\n",
      "-----------MSE----------\n",
      "Testing error: 161.06620279947916\n",
      "-----------RMSE----------\n",
      "Testing error: 12.691186028085758\n",
      "-----------MAPE----------\n",
      "Testing error: nan %\n",
      "-----------MAE----------\n",
      "Testing error: 7.634818394978841\n",
      "*****************************\n"
     ]
    },
    {
     "name": "stderr",
     "output_type": "stream",
     "text": [
      "/tmp/ipykernel_659032/205311161.py:24: RuntimeWarning: divide by zero encountered in divide\n",
      "  test_error_mape = (100 / y_test.shape[0]) * (np.absolute(y_test - y_pred_test) / y_test).sum()\n",
      "/tmp/ipykernel_659032/205311161.py:24: RuntimeWarning: invalid value encountered in divide\n",
      "  test_error_mape = (100 / y_test.shape[0]) * (np.absolute(y_test - y_pred_test) / y_test).sum()\n"
     ]
    }
   ],
   "source": [
    "model_name = model_names[best_model_idx]\n",
    "checkpoint_dict = torch.load(model_name)\n",
    "model = NodeEncodedGCN_1l(\n",
    "    transform=checkpoint_dict['hyper_parameters']['transform'],\n",
    "    weight_decay=checkpoint_dict['hyper_parameters']['weight_decay'],\n",
    "    lr=checkpoint_dict['hyper_parameters']['lr'],\n",
    "    drop_p=checkpoint_dict['hyper_parameters']['drop_p'],\n",
    "    batch_size=checkpoint_dict['hyper_parameters']['batch_size'],\n",
    "    input_size=checkpoint_dict['hyper_parameters']['input_size'],\n",
    "    hidden_layers=checkpoint_dict['hyper_parameters']['hidden_layers'],\n",
    "    aggregation_function=checkpoint_dict['hyper_parameters']['aggregation_function'],\n",
    ")\n",
    "model = model.load_from_checkpoint(model_name)\n",
    "\n",
    "trainer = pl.Trainer(gpus=1)\n",
    "\n",
    "output = trainer.predict(model, dataloaders=data_module.test_dataloader())\n",
    "y_hat = np.concatenate([out[0] for out in output])\n",
    "y_true = np.concatenate([out[1] for out in output])\n",
    "\n",
    "\n",
    "print('****BEFORE RF ZERO FIXING****')\n",
    "simple_model_evaluation(y_true, y_hat)\n",
    "print('*****************************')\n",
    "\n",
    "y_hat_rf = np.zeros_like(y_hat)\n",
    "y_hat_rf[data_module_rf.non_zero_indices_test] = y_hat[data_module_rf.non_zero_indices_test]\n",
    "print(' *** AFTER RF ZERO FIXING ****')\n",
    "temp_res = simple_model_evaluation(y_hat_rf, y_true)\n",
    "results.append(temp_res)\n",
    "print('*****************************')\n",
    "\n",
    "df = pd.DataFrame({'y_true': y_true, 'y_hat': y_hat_rf, 'date': data_module.test_dates})\n",
    "df.to_csv(f'{model_name}_pred.csv', index=False)\n"
   ]
  },
  {
   "cell_type": "code",
   "execution_count": 10,
   "metadata": {},
   "outputs": [
    {
     "data": {
      "text/plain": [
       "<matplotlib.legend.Legend at 0x7f98fed0e340>"
      ]
     },
     "execution_count": 10,
     "metadata": {},
     "output_type": "execute_result"
    },
    {
     "data": {
      "image/png": "[encoded data removed]",
      "text/plain": [
       "<Figure size 640x480 with 1 Axes>"
      ]
     },
     "metadata": {},
     "output_type": "display_data"
    }
   ],
   "source": [
    "fig, ax = plt.subplots()\n",
    "ax.hist(y_true, bins=100, alpha=0.75)\n",
    "ax.hist(y_hat, bins=100, alpha=0.75)\n",
    "ax.hist(y_hat_rf, bins=100, alpha=0.75)\n",
    "ax.legend(['y_true', 'y_hat', 'y_hat_rf'])"
   ]
  },
  {
   "cell_type": "code",
   "execution_count": 11,
   "metadata": {},
   "outputs": [
    {
     "name": "stderr",
     "output_type": "stream",
     "text": [
      "You are using a CUDA device ('NVIDIA GeForce RTX 3080 Ti') that has Tensor Cores. To properly utilize them, you should set `torch.set_float32_matmul_precision('medium' | 'high')` which will trade-off precision for performance. For more details, read https://pytorch.org/docs/stable/generated/torch.set_float32_matmul_precision.html#torch.set_float32_matmul_precision\n",
      "LOCAL_RANK: 0 - CUDA_VISIBLE_DEVICES: [0,1]\n",
      "/home/manity/SHOW_folder/SHOW_ML_Service/envs/show_env1/lib/python3.9/site-packages/pytorch_lightning/trainer/connectors/data_connector.py:224: PossibleUserWarning: The dataloader, predict_dataloader 0, does not have many workers which may be a bottleneck. Consider increasing the value of the `num_workers` argument` (try 48 which is the number of cpus on this machine) in the `DataLoader` init to improve performance.\n",
      "  rank_zero_warn(\n"
     ]
    },
    {
     "name": "stdout",
     "output_type": "stream",
     "text": [
      "Predicting DataLoader 0: 100%|██████████| 7/7 [00:00<00:00, 41.76it/s] \n",
      "****Safety check****\n",
      "ne_gcn-4239-07271142.ckpt\n",
      "-----------MSE----------\n",
      "Testing error: 224.50775812064964\n",
      "-----------RMSE----------\n",
      "Testing error: 14.983582953374324\n",
      "-----------MAPE----------\n",
      "Testing error: inf %\n",
      "-----------MAE----------\n",
      "Testing error: 11.094060415458236\n",
      "*****************************\n"
     ]
    },
    {
     "name": "stderr",
     "output_type": "stream",
     "text": [
      "/tmp/ipykernel_659032/205311161.py:24: RuntimeWarning: divide by zero encountered in divide\n",
      "  test_error_mape = (100 / y_test.shape[0]) * (np.absolute(y_test - y_pred_test) / y_test).sum()\n"
     ]
    }
   ],
   "source": [
    "output = trainer.predict(model, dataloaders=data_module_rf.test_dataloader())\n",
    "y_hat = np.concatenate([out[0] for out in output])\n",
    "y_true = np.concatenate([out[1] for out in output])\n",
    "\n",
    "#df = pd.DataFrame({'y_true': y_true, 'y_hat': y_hat})\n",
    "#df.to_csv(f'{model_name}_pred.csv', index=False)\n",
    "\n",
    "print('****Safety check****')\n",
    "print(f'{model_names[best_model_idx]}')\n",
    "simple_model_evaluation(y_true, y_hat)\n",
    "print('*****************************')"
   ]
  },
  {
   "cell_type": "code",
   "execution_count": 12,
   "metadata": {},
   "outputs": [
    {
     "data": {
      "text/plain": [
       "array([11.496338 ,  9.775331 ,  6.7919927,  0.       ,  0.       ,\n",
       "        8.985818 ,  0.       , 12.014425 ,  9.789407 ,  0.       ,\n",
       "        0.       ,  0.       ,  9.181258 ,  0.       , 12.08317  ,\n",
       "       11.07411  ,  7.8603716,  0.       , 12.8585   , 10.1027155,\n",
       "        0.       , 12.479847 ,  0.       ,  0.       , 16.273756 ,\n",
       "        0.       ,  0.       ,  0.       , 14.144027 , 12.5398245,\n",
       "        7.820635 , 13.721009 ,  0.       ,  0.       ,  0.       ,\n",
       "        0.       , 10.60962  ,  8.107154 , 13.832729 ,  0.       ,\n",
       "        0.       ,  0.       ,  0.       , 10.074494 ,  0.       ,\n",
       "       13.289522 ,  0.       ,  0.       , 18.39261  , 14.327365 ,\n",
       "       10.124605 ,  8.467695 , 13.070946 , 12.289224 ,  0.       ,\n",
       "        0.       ,  0.       ,  0.       ,  0.       ,  9.91142  ,\n",
       "       15.011268 ,  0.       ,  9.646951 , 19.883518 ,  0.       ,\n",
       "       10.729084 ,  0.       , 14.118629 ,  0.       ,  0.       ,\n",
       "        0.       ,  0.       ,  0.       ,  0.       , 13.368807 ,\n",
       "       12.857624 ,  9.751285 ,  0.       , 14.587461 ,  0.       ,\n",
       "        0.       , 13.43855  , 13.148234 , 10.273304 , 21.983803 ,\n",
       "       14.561624 ,  0.       ,  0.       , 13.768454 , 13.980866 ,\n",
       "       10.19212  ,  0.       ,  0.       ,  0.       ,  0.       ,\n",
       "       15.074907 ,  0.       ,  0.       , 21.873146 , 14.553968 ,\n",
       "       11.963512 ,  0.       , 15.788439 ,  0.       ,  0.       ,\n",
       "       22.578941 ,  0.       ,  0.       ,  0.       , 15.316955 ,\n",
       "        0.       ,  0.       , 22.740503 , 15.140964 ,  0.       ,\n",
       "        0.       , 15.14608  , 14.693883 , 11.335279 , 25.190931 ,\n",
       "        0.       , 11.387909 , 10.070709 , 14.791215 , 15.051511 ,\n",
       "       13.424578 , 24.932428 ,  0.       , 11.591116 ,  0.       ,\n",
       "       14.932372 , 15.7125   , 14.150353 , 24.195509 ,  0.       ,\n",
       "       11.298741 ,  0.       , 15.655726 ,  0.       , 12.490285 ,\n",
       "       23.5988   , 14.647341 ,  0.       ,  0.       , 15.2275305,\n",
       "        0.       ,  0.       , 15.080224 , 15.21636  , 24.399607 ,\n",
       "        0.       ,  0.       ,  0.       , 14.467094 ,  0.       ,\n",
       "       12.456285 , 23.63726  ,  0.       ,  0.       ,  0.       ,\n",
       "       14.167888 , 15.123417 , 12.968453 , 23.746347 ,  0.       ,\n",
       "        0.       ,  0.       , 14.315313 ,  0.       , 12.3781   ,\n",
       "        0.       ,  0.       , 13.181334 ,  0.       ,  7.227364 ,\n",
       "       18.586298 ,  0.       , 10.427716 ,  0.       , 11.919801 ,\n",
       "        0.       ,  7.144992 ,  0.       , 10.010703 ,  0.       ,\n",
       "        8.836375 ,  0.       , 10.933163 , 17.920193 , 13.087697 ,\n",
       "       12.344985 , 10.56182  , 12.437681 , 14.656242 ,  0.       ,\n",
       "       10.77421  ,  0.       , 10.045557 ,  0.       , 17.873335 ,\n",
       "        0.       ,  0.       ,  0.       , 14.382106 , 12.75318  ,\n",
       "       11.958098 ,  0.       , 12.331131 , 10.515165 , 21.293936 ,\n",
       "        0.       , 14.815741 , 13.815293 ,  0.       ,  7.4079175,\n",
       "       11.119751 ,  0.       ,  0.       , 11.141814 ,  6.3148894,\n",
       "        0.       ,  0.       ,  0.       ,  0.       ,  0.       ,\n",
       "       11.653353 ,  6.435144 , 12.28112  ,  0.       ,  7.6886096,\n",
       "       17.167162 , 15.960247 , 12.810886 , 12.025651 , 12.577645 ,\n",
       "        0.       , 11.092279 , 12.4619665, 21.054754 ,  0.       ,\n",
       "        7.8610005, 14.575219 , 14.303919 , 11.859796 ,  0.       ,\n",
       "       16.665312 ,  0.       , 13.028758 , 11.39835  , 19.472725 ,\n",
       "       15.19202  , 11.881013 , 16.327984 , 13.344555 , 11.900035 ,\n",
       "       19.585321 , 14.573832 , 14.062983 , 12.515792 ,  0.       ,\n",
       "        0.       , 11.8765135, 17.731073 , 17.216236 , 12.481073 ,\n",
       "       13.525725 ,  0.       , 11.521168 ,  0.       , 19.966305 ,\n",
       "        0.       ,  0.       , 16.36741  ,  9.602934 , 14.141734 ,\n",
       "       12.073411 , 21.62569  ,  0.       ,  0.       ,  0.       ,\n",
       "       12.720655 ,  0.       ,  9.650449 , 18.007746 , 12.359452 ,\n",
       "        0.       ,  0.       , 12.758536 , 10.271186 , 10.337527 ,\n",
       "        0.       , 12.313147 , 12.620329 , 13.053483 , 12.424771 ,\n",
       "        9.64273  ,  0.       , 14.199124 , 15.881115 , 18.597565 ,\n",
       "       18.495094 , 15.255194 , 13.184636 , 21.33191  , 15.7203455,\n",
       "       15.331468 , 12.912292 , 18.608063 , 15.306024 , 13.408194 ,\n",
       "        0.       , 13.6497965,  0.       , 14.140359 ,  0.       ,\n",
       "       10.058866 , 18.42914  ,  0.       ,  0.       ,  0.       ,\n",
       "       14.578964 ,  9.986587 ,  0.       , 13.660974 ,  0.       ,\n",
       "        0.       ,  0.       , 12.604922 ,  0.       , 19.052017 ,\n",
       "        0.       ,  0.       ,  0.       , 17.297283 ,  0.       ,\n",
       "       10.7904215,  0.       ,  0.       , 13.238219 ,  0.       ,\n",
       "       17.305548 ,  0.       , 10.362721 , 19.018587 ,  0.       ,\n",
       "       13.326604 ,  0.       ,  0.       , 12.670038 ,  0.       ,\n",
       "       21.088287 , 14.094192 , 18.819609 ,  0.       , 14.835119 ,\n",
       "        0.       , 12.934245 , 19.12468  ,  0.       , 18.266657 ,\n",
       "       24.663456 , 17.610672 , 14.937148 ,  0.       ,  0.       ,\n",
       "       15.688037 , 15.508531 ,  0.       , 16.064178 , 10.835944 ,\n",
       "       19.713087 , 22.175041 ,  0.       ,  0.       , 15.928795 ,\n",
       "       14.5411005, 12.697763 , 15.844975 ,  0.       ,  0.       ,\n",
       "        0.       , 10.846297 ,  0.       , 18.844738 ,  0.       ,\n",
       "        0.       ,  0.       ,  0.       ,  0.       , 15.926862 ,\n",
       "       13.288731 ,  0.       , 21.293135 , 14.495989 ,  0.       ,\n",
       "        0.       , 16.231218 , 13.514372 , 19.0648   , 12.469024 ,\n",
       "       15.622752 ,  0.       , 17.151485 ,  0.       , 25.243853 ,\n",
       "       16.665342 , 14.485906 , 14.269889 , 19.200392 , 15.429494 ,\n",
       "       14.648344 , 25.478634 , 20.093077 , 17.108912 ,  0.       ,\n",
       "       14.164026 , 16.856873 , 14.605815 , 25.839579 , 20.506723 ,\n",
       "       18.345001 ,  0.       ,  0.       ,  0.       , 16.260862 ,\n",
       "       23.898623 ,  0.       ,  0.       , 17.343279 , 15.003149 ,\n",
       "       12.659091 , 23.118603 , 15.1354685,  0.       , 15.529564 ,\n",
       "        0.       ,  8.362348 , 21.879045 , 14.961221 , 10.146809 ,\n",
       "        0.       , 16.56655  ,  0.       ,  8.679142 , 18.985891 ,\n",
       "       14.147275 ,  0.       ,  0.       , 13.021284 , 10.625659 ,\n",
       "        9.542362 , 18.630814 ,  0.       ,  0.       ,  0.       ,\n",
       "        0.       ,  0.       , 10.031139 , 17.415987 ,  0.       ,\n",
       "        0.       ,  0.       , 13.387229 , 16.590294 ,  0.       ,\n",
       "       10.569836 ,  0.       , 13.91063  ,  0.       ,  0.       ,\n",
       "       13.852479 , 11.688411 ,  9.674841 , 18.179962 , 14.736848 ,\n",
       "        0.       ,  0.       , 13.235546 ,  0.       ,  0.       ,\n",
       "       15.789538 ,  0.       ,  0.       ,  0.       ,  0.       ,\n",
       "       10.511085 , 21.058733 , 17.746328 , 13.315839 ,  0.       ,\n",
       "       10.41194  ,  0.       ,  8.333136 , 12.373475 , 14.737339 ,\n",
       "       13.605067 ,  0.       , 10.86956  , 12.152347 , 20.788956 ,\n",
       "        0.       ,  0.       ,  0.       ,  0.       , 13.206209 ,\n",
       "       10.4341345, 20.257273 , 13.79539  ,  0.       ,  0.       ,\n",
       "       12.995532 , 13.4334545,  0.       , 19.561    ,  0.       ,\n",
       "        0.       ,  0.       , 13.559156 ,  0.       ,  0.       ,\n",
       "       23.133835 ,  0.       , 10.649685 ,  0.       ,  0.       ,\n",
       "       13.3147335, 11.683612 , 23.610777 ,  0.       ,  0.       ,\n",
       "        0.       , 12.613458 , 13.729819 , 12.022133 ,  0.       ,\n",
       "       14.583062 , 12.827402 ,  0.       , 13.180959 , 14.030555 ,\n",
       "       11.495294 , 23.70316  , 12.238699 , 13.295045 ,  0.       ,\n",
       "       12.123655 ,  8.19829  ,  0.       , 17.428047 ,  0.       ,\n",
       "        0.       ,  0.       , 12.429517 ,  0.       ,  0.       ,\n",
       "       16.873686 ,  0.       , 12.487101 ,  0.       ,  0.       ,\n",
       "        8.486409 ,  0.       , 19.282959 ,  0.       , 11.77157  ,\n",
       "        0.       , 12.234183 ,  0.       ,  8.319516 , 22.478254 ,\n",
       "       12.046171 , 13.197214 ,  0.       , 12.813768 ,  0.       ,\n",
       "        8.779937 , 17.192848 ,  0.       ,  0.       ,  0.       ,\n",
       "        0.       ,  0.       ,  9.330263 ,  0.       , 13.426226 ,\n",
       "        0.       ,  0.       , 12.738047 ,  9.76354  , 10.379182 ,\n",
       "       20.71128  ,  0.       ,  0.       ,  0.       , 13.671207 ,\n",
       "       10.853696 ,  0.       , 22.898392 ,  0.       ,  0.       ,\n",
       "        0.       , 13.176755 , 10.173934 ,  0.       ,  0.       ,\n",
       "        0.       ,  0.       , 13.10582  ,  0.       ,  0.       ,\n",
       "       12.832684 ,  0.       ,  0.       , 14.46012  , 11.08559  ,\n",
       "       10.229672 , 18.72213  , 13.549895 , 13.307505 ,  0.       ,\n",
       "       15.089372 ,  0.       , 12.306904 ,  0.       ,  0.       ,\n",
       "        0.       , 19.528378 , 12.105977 , 14.805645 ,  0.       ,\n",
       "        0.       ,  0.       ,  0.       , 15.373731 , 14.296477 ,\n",
       "       11.150975 ,  0.       , 12.961723 , 14.054593 , 10.078423 ,\n",
       "       15.078874 , 11.342707 ,  0.       , 18.13477  ,  0.       ,\n",
       "       13.049469 ,  0.       , 15.619556 ,  0.       ,  0.       ,\n",
       "        0.       , 13.25715  , 13.471221 ,  0.       , 15.557111 ,\n",
       "       11.499245 ,  0.       , 18.15468  ,  0.       ,  0.       ,\n",
       "       10.136751 , 14.758026 ,  0.       ,  0.       ,  0.       ,\n",
       "        0.       ,  0.       ,  0.       , 15.466508 , 11.510699 ,\n",
       "        0.       , 18.016895 , 14.431128 , 14.062731 ,  0.       ,\n",
       "       15.761476 , 12.245328 , 10.264649 ,  0.       , 14.35027  ,\n",
       "        0.       ,  0.       , 16.596857 ,  0.       , 11.364045 ,\n",
       "       11.415716 ,  0.       , 11.362999 ,  0.       ,  5.8829865,\n",
       "        0.       ,  0.       ,  0.       ,  0.       , 11.721126 ,\n",
       "        8.656602 ,  6.3307347,  0.       , 10.780799 ,  0.       ,\n",
       "        0.       , 12.114851 ,  0.       ,  7.451506 ,  0.       ,\n",
       "       10.8362255,  0.       ,  0.       , 11.887864 ,  8.599506 ,\n",
       "        0.       ,  0.       ,  0.       ,  0.       ,  6.5222774,\n",
       "       12.737755 ,  0.       ,  6.9088707,  0.       ,  0.       ,\n",
       "        0.       ,  0.       , 12.881962 ,  9.694272 ,  7.5360823,\n",
       "        0.       ,  0.       ,  0.       ,  0.       ,  0.       ,\n",
       "        0.       , 14.655859 ,  0.       ,  0.       , 14.843239 ,\n",
       "        0.       ,  0.       , 14.799524 , 24.716122 , 16.89758  ,\n",
       "        0.       ,  0.       , 21.784218 , 17.553303 , 15.800254 ,\n",
       "       14.618897 , 24.13729  , 20.070414 , 17.288982 , 16.02138  ,\n",
       "       22.781462 ,  0.       ,  0.       , 27.494808 , 19.82984  ,\n",
       "       16.194332 , 15.86464  ,  0.       , 17.08112  ,  0.       ,\n",
       "       25.388628 , 19.018023 , 16.350067 , 16.079597 ,  0.       ,\n",
       "        0.       ,  0.       , 24.101114 ], dtype=float32)"
      ]
     },
     "execution_count": 12,
     "metadata": {},
     "output_type": "execute_result"
    }
   ],
   "source": [
    "y_hat_rf"
   ]
  },
  {
   "cell_type": "code",
   "execution_count": null,
   "metadata": {},
   "outputs": [],
   "source": []
  }
 ],
 "metadata": {
  "kernelspec": {
   "display_name": "show_env1",
   "language": "python",
   "name": "python3"
  },
  "language_info": {
   "codemirror_mode": {
    "name": "ipython",
    "version": 3
   },
   "file_extension": ".py",
   "mimetype": "text/x-python",
   "name": "python",
   "nbconvert_exporter": "python",
   "pygments_lexer": "ipython3",
   "version": "3.9.17"
  },
  "orig_nbformat": 4
 },
 "nbformat": 4,
 "nbformat_minor": 2
}
