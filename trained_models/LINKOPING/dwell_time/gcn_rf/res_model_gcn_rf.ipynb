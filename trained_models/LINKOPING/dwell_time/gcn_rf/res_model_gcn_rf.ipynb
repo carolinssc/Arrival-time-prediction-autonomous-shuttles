{
 "cells": [
  {
   "cell_type": "code",
   "execution_count": 1,
   "metadata": {},
   "outputs": [
    {
     "name": "stderr",
     "output_type": "stream",
     "text": [
      "/home/manity/SHOW_folder/SHOW_ML_Service/envs/show_env1/lib/python3.9/site-packages/tqdm/auto.py:21: TqdmWarning: IProgress not found. Please update jupyter and ipywidgets. See https://ipywidgets.readthedocs.io/en/stable/user_install.html\n",
      "  from .autonotebook import tqdm as notebook_tqdm\n"
     ]
    }
   ],
   "source": [
    "import sys\n",
    "sys.path.append('../../../../../src')\n",
    "import os\n",
    "import torch\n",
    "from pytorch_lightning.callbacks import ModelCheckpoint\n",
    "import pytorch_lightning as pl\n",
    "import numpy as np\n",
    "import matplotlib.pyplot as plt\n",
    "import pandas as pd\n",
    "\n",
    "from data.datamodule import SHOWDataModule\n",
    "from models.gcn_model import NodeEncodedGCN, NodeEncodedGCN_tt, NodeEncodedGCN_1l, NodeEncodedGCN_2l, NodeEncodedGCN_3l\n",
    "\n",
    "\n",
    "def simple_model_evaluation(y_test, y_pred_test):\n",
    "    # Simple model evaluation that computes and prints MSE, RMSE and MAPE for the training and testing set\n",
    "\n",
    "    # train_error_mse = np.square(y_train - y_pred_train).sum() / y_train.shape[0]\n",
    "    test_error_mse = np.square(y_test - y_pred_test).sum() / y_test.shape[0]\n",
    "\n",
    "    # train_error_mape = (100 / y_train.shape[0]) * (\n",
    "    #    np.absolute(y_train - y_pred_train) / y_train\n",
    "    # ).sum()  # y_train should never be 0 since the travel time in a segment cannot be 0\n",
    "    test_error_mape = (100 / y_test.shape[0]) * (np.absolute(y_test - y_pred_test) / y_test).sum()\n",
    "\n",
    "    test_error_mae = (1 / y_test.shape[0]) * (np.absolute(y_test - y_pred_test)).sum()\n",
    "    print(\"-----------MSE----------\")\n",
    "    # print(\"Training error: {}\".format(train_error_mse))\n",
    "    print(\"Testing error: {}\".format(test_error_mse))\n",
    "    print(\"-----------RMSE----------\")\n",
    "    # print(\"Training error: {}\".format(np.sqrt(train_error_mse)))\n",
    "    print(\"Testing error: {}\".format(np.sqrt(test_error_mse)))\n",
    "    print(\"-----------MAPE----------\")\n",
    "    # print(\"Training error: {:.2f} %\".format(train_error_mape))\n",
    "    print(\"Testing error: {:.2f} %\".format(test_error_mape))\n",
    "    print(\"-----------MAE----------\")\n",
    "    print(\"Testing error: {}\".format(test_error_mae))\n",
    "    return test_error_mse, np.sqrt(test_error_mse), test_error_mape, test_error_mae\n",
    "\n"
   ]
  },
  {
   "cell_type": "code",
   "execution_count": 2,
   "metadata": {},
   "outputs": [
    {
     "name": "stdout",
     "output_type": "stream",
     "text": [
      "** Removing zero obs based on RF classifier ***\n",
      "Confusion matrix train: [ 2655     0     0 41937]\n",
      "Confusion matrix test: [ 253   50    7 3777]\n"
     ]
    }
   ],
   "source": [
    "# Path for the checkpoint directory\n",
    "\n",
    "# Load the datamodule\n",
    "site_name = 'LINKOPING_FINAL2'\n",
    "transform_type = 'maxmin'\n",
    "batch_size = 64\n",
    "empty_graph = False\n",
    "time_kind = 'dwell_times'\n",
    "data_module = SHOWDataModule(\n",
    "    site_name=site_name,\n",
    "    transform=transform_type,\n",
    "    num_lags=2,\n",
    "    train_frac=0.9,\n",
    "    batch_size=batch_size,\n",
    "    empty_graph=empty_graph,\n",
    "    verbose=False,\n",
    "    time_kind=time_kind,\n",
    ")\n",
    "transform = data_module.setup()\n",
    "\n",
    "data_module_rf = SHOWDataModule(\n",
    "    site_name=site_name,\n",
    "    transform=transform_type,\n",
    "    num_lags=2,\n",
    "    train_frac=0.9,\n",
    "    batch_size=batch_size,\n",
    "    empty_graph=empty_graph,\n",
    "    verbose=False,\n",
    "    time_kind=time_kind,\n",
    "    rf_remove_zero_obs=True,\n",
    "    \n",
    ")\n",
    "transform_rf = data_module_rf.setup()"
   ]
  },
  {
   "cell_type": "code",
   "execution_count": 3,
   "metadata": {},
   "outputs": [],
   "source": [
    "model_names = os.listdir('.')\n",
    "# remove any files that don't end with .ckpt\n",
    "model_names = [name for name in model_names if name.endswith('.ckpt')]"
   ]
  },
  {
   "cell_type": "code",
   "execution_count": 4,
   "metadata": {},
   "outputs": [
    {
     "data": {
      "text/plain": [
       "['ne_gcn-3926-07262048.ckpt',\n",
       " 'ne_gcn-7422-07262048.ckpt',\n",
       " 'ne_gcn-141-07262048.ckpt',\n",
       " 'ne_gcn-5924-07262048.ckpt']"
      ]
     },
     "execution_count": 4,
     "metadata": {},
     "output_type": "execute_result"
    }
   ],
   "source": [
    "model_names"
   ]
  },
  {
   "cell_type": "code",
   "execution_count": 5,
   "metadata": {},
   "outputs": [
    {
     "name": "stdout",
     "output_type": "stream",
     "text": [
      "ne_gcn-3926-07262048.ckpt\n"
     ]
    },
    {
     "name": "stderr",
     "output_type": "stream",
     "text": [
      "/home/manity/SHOW_folder/SHOW_ML_Service/envs/show_env1/lib/python3.9/site-packages/pytorch_lightning/trainer/connectors/accelerator_connector.py:478: LightningDeprecationWarning: Setting `Trainer(gpus=1)` is deprecated in v1.7 and will be removed in v2.0. Please use `Trainer(accelerator='gpu', devices=1)` instead.\n",
      "  rank_zero_deprecation(\n",
      "GPU available: True (cuda), used: True\n",
      "TPU available: False, using: 0 TPU cores\n",
      "IPU available: False, using: 0 IPUs\n",
      "HPU available: False, using: 0 HPUs\n",
      "You are using a CUDA device ('NVIDIA GeForce RTX 3080 Ti') that has Tensor Cores. To properly utilize them, you should set `torch.set_float32_matmul_precision('medium' | 'high')` which will trade-off precision for performance. For more details, read https://pytorch.org/docs/stable/generated/torch.set_float32_matmul_precision.html#torch.set_float32_matmul_precision\n",
      "LOCAL_RANK: 0 - CUDA_VISIBLE_DEVICES: [0,1]\n",
      "/home/manity/SHOW_folder/SHOW_ML_Service/envs/show_env1/lib/python3.9/site-packages/pytorch_lightning/trainer/connectors/data_connector.py:224: PossibleUserWarning: The dataloader, predict_dataloader 0, does not have many workers which may be a bottleneck. Consider increasing the value of the `num_workers` argument` (try 48 which is the number of cpus on this machine) in the `DataLoader` init to improve performance.\n",
      "  rank_zero_warn(\n"
     ]
    },
    {
     "name": "stdout",
     "output_type": "stream",
     "text": [
      "Predicting DataLoader 0: 100%|██████████| 64/64 [00:01<00:00, 57.93it/s]\n",
      "****BEFORE RF ZERO FIXING****\n",
      "-----------MSE----------\n",
      "Testing error: 141.20256300464888\n",
      "-----------RMSE----------\n",
      "Testing error: 11.882868467026338\n",
      "-----------MAPE----------\n",
      "Testing error: inf %\n",
      "-----------MAE----------\n",
      "Testing error: 7.00693940007952\n",
      "*****************************\n",
      " *** AFTER RF ZERO FIXING ****\n",
      "-----------MSE----------\n",
      "Testing error: 110.78079887448006\n",
      "-----------RMSE----------\n",
      "Testing error: 10.525245786891633\n",
      "-----------MAPE----------\n",
      "Testing error: nan %\n",
      "-----------MAE----------\n",
      "Testing error: 5.629304330040371\n",
      "*****************************\n",
      "ne_gcn-7422-07262048.ckpt\n"
     ]
    },
    {
     "name": "stderr",
     "output_type": "stream",
     "text": [
      "/tmp/ipykernel_3134155/205311161.py:24: RuntimeWarning: divide by zero encountered in divide\n",
      "  test_error_mape = (100 / y_test.shape[0]) * (np.absolute(y_test - y_pred_test) / y_test).sum()\n",
      "/tmp/ipykernel_3134155/205311161.py:24: RuntimeWarning: invalid value encountered in divide\n",
      "  test_error_mape = (100 / y_test.shape[0]) * (np.absolute(y_test - y_pred_test) / y_test).sum()\n",
      "GPU available: True (cuda), used: True\n",
      "TPU available: False, using: 0 TPU cores\n",
      "IPU available: False, using: 0 IPUs\n",
      "HPU available: False, using: 0 HPUs\n",
      "You are using a CUDA device ('NVIDIA GeForce RTX 3080 Ti') that has Tensor Cores. To properly utilize them, you should set `torch.set_float32_matmul_precision('medium' | 'high')` which will trade-off precision for performance. For more details, read https://pytorch.org/docs/stable/generated/torch.set_float32_matmul_precision.html#torch.set_float32_matmul_precision\n",
      "LOCAL_RANK: 0 - CUDA_VISIBLE_DEVICES: [0,1]\n"
     ]
    },
    {
     "name": "stdout",
     "output_type": "stream",
     "text": [
      "Predicting DataLoader 0: 100%|██████████| 64/64 [00:00<00:00, 116.56it/s]\n",
      "****BEFORE RF ZERO FIXING****\n",
      "-----------MSE----------\n",
      "Testing error: 144.45452043063372\n",
      "-----------RMSE----------\n",
      "Testing error: 12.018923430600335\n",
      "-----------MAPE----------\n",
      "Testing error: inf %\n",
      "-----------MAE----------\n",
      "Testing error: 7.06529898534989\n",
      "*****************************\n",
      " *** AFTER RF ZERO FIXING ****\n",
      "-----------MSE----------\n",
      "Testing error: 110.49999235380474\n",
      "-----------RMSE----------\n",
      "Testing error: 10.511897657121892\n",
      "-----------MAPE----------\n",
      "Testing error: nan %\n",
      "-----------MAE----------\n",
      "Testing error: 5.607978135704673\n",
      "*****************************\n",
      "ne_gcn-141-07262048.ckpt\n"
     ]
    },
    {
     "name": "stderr",
     "output_type": "stream",
     "text": [
      "GPU available: True (cuda), used: True\n",
      "TPU available: False, using: 0 TPU cores\n",
      "IPU available: False, using: 0 IPUs\n",
      "HPU available: False, using: 0 HPUs\n",
      "You are using a CUDA device ('NVIDIA GeForce RTX 3080 Ti') that has Tensor Cores. To properly utilize them, you should set `torch.set_float32_matmul_precision('medium' | 'high')` which will trade-off precision for performance. For more details, read https://pytorch.org/docs/stable/generated/torch.set_float32_matmul_precision.html#torch.set_float32_matmul_precision\n",
      "LOCAL_RANK: 0 - CUDA_VISIBLE_DEVICES: [0,1]\n"
     ]
    },
    {
     "name": "stdout",
     "output_type": "stream",
     "text": [
      "Predicting DataLoader 0: 100%|██████████| 64/64 [00:00<00:00, 100.91it/s]\n",
      "****BEFORE RF ZERO FIXING****\n",
      "-----------MSE----------\n",
      "Testing error: 145.49498409591388\n",
      "-----------RMSE----------\n",
      "Testing error: 12.062130164109234\n",
      "-----------MAPE----------\n",
      "Testing error: inf %\n",
      "-----------MAE----------\n",
      "Testing error: 7.2039292841632\n",
      "*****************************\n",
      " *** AFTER RF ZERO FIXING ****\n",
      "-----------MSE----------\n",
      "Testing error: 112.08214307560557\n",
      "-----------RMSE----------\n",
      "Testing error: 10.586885428472605\n",
      "-----------MAPE----------\n",
      "Testing error: nan %\n",
      "-----------MAE----------\n",
      "Testing error: 5.761450655278933\n",
      "*****************************\n",
      "ne_gcn-5924-07262048.ckpt\n"
     ]
    },
    {
     "name": "stderr",
     "output_type": "stream",
     "text": [
      "GPU available: True (cuda), used: True\n",
      "TPU available: False, using: 0 TPU cores\n",
      "IPU available: False, using: 0 IPUs\n",
      "HPU available: False, using: 0 HPUs\n",
      "You are using a CUDA device ('NVIDIA GeForce RTX 3080 Ti') that has Tensor Cores. To properly utilize them, you should set `torch.set_float32_matmul_precision('medium' | 'high')` which will trade-off precision for performance. For more details, read https://pytorch.org/docs/stable/generated/torch.set_float32_matmul_precision.html#torch.set_float32_matmul_precision\n",
      "LOCAL_RANK: 0 - CUDA_VISIBLE_DEVICES: [0,1]\n"
     ]
    },
    {
     "name": "stdout",
     "output_type": "stream",
     "text": [
      "Predicting DataLoader 0: 100%|██████████| 64/64 [00:00<00:00, 108.85it/s]\n",
      "****BEFORE RF ZERO FIXING****\n",
      "-----------MSE----------\n",
      "Testing error: 144.89772449229264\n",
      "-----------RMSE----------\n",
      "Testing error: 12.037347070359509\n",
      "-----------MAPE----------\n",
      "Testing error: inf %\n",
      "-----------MAE----------\n",
      "Testing error: 7.1237789981954975\n",
      "*****************************\n",
      " *** AFTER RF ZERO FIXING ****\n",
      "-----------MSE----------\n",
      "Testing error: 110.53631178125765\n",
      "-----------RMSE----------\n",
      "Testing error: 10.51362505424545\n",
      "-----------MAPE----------\n",
      "Testing error: nan %\n",
      "-----------MAE----------\n",
      "Testing error: 5.660566755107658\n",
      "*****************************\n"
     ]
    }
   ],
   "source": [
    "results = []\n",
    "# Load model checkpoint\n",
    "for model_name in model_names:\n",
    "    print(model_name)\n",
    "    checkpoint_dict = torch.load(model_name)\n",
    "    model = NodeEncodedGCN_1l(\n",
    "        transform=checkpoint_dict['hyper_parameters']['transform'],\n",
    "        weight_decay=checkpoint_dict['hyper_parameters']['weight_decay'],\n",
    "        lr=checkpoint_dict['hyper_parameters']['lr'],\n",
    "        drop_p=checkpoint_dict['hyper_parameters']['drop_p'],\n",
    "        batch_size=checkpoint_dict['hyper_parameters']['batch_size'],\n",
    "        input_size=checkpoint_dict['hyper_parameters']['input_size'],\n",
    "        hidden_layers=checkpoint_dict['hyper_parameters']['hidden_layers'],\n",
    "        aggregation_function=checkpoint_dict['hyper_parameters']['aggregation_function'],\n",
    "    )\n",
    "    model = model.load_from_checkpoint(model_name)\n",
    "\n",
    "    trainer = pl.Trainer(gpus=1)\n",
    "\n",
    "    output = trainer.predict(model, dataloaders=data_module.test_dataloader())\n",
    "    y_hat = np.concatenate([out[0] for out in output])\n",
    "    y_true = np.concatenate([out[1] for out in output])\n",
    "\n",
    "\n",
    "    print('****BEFORE RF ZERO FIXING****')\n",
    "    simple_model_evaluation(y_true, y_hat)\n",
    "    print('*****************************')\n",
    "\n",
    "    y_hat_rf = np.zeros_like(y_hat)\n",
    "    y_hat_rf[data_module_rf.non_zero_indices_test] = y_hat[data_module_rf.non_zero_indices_test]\n",
    "    print(' *** AFTER RF ZERO FIXING ****')\n",
    "    temp_res = simple_model_evaluation(y_hat_rf, y_true)\n",
    "    results.append(temp_res)\n",
    "    print('*****************************')"
   ]
  },
  {
   "cell_type": "code",
   "execution_count": 6,
   "metadata": {},
   "outputs": [],
   "source": [
    "results\n",
    "mse_arr = np.array([res[0] for res in results])\n",
    "rmse_arr = np.array([res[1] for res in results])\n",
    "mape_arr = np.array([res[2] for res in results])\n",
    "mae_arr = np.array([res[3] for res in results])"
   ]
  },
  {
   "cell_type": "code",
   "execution_count": 7,
   "metadata": {},
   "outputs": [
    {
     "name": "stdout",
     "output_type": "stream",
     "text": [
      "Results for LINKOPING_FINAL2 with <class 'data.datamodule.MaxMin'> transform and dwell_times time kind\n",
      "MSE: 110.97481152128701 +/- 0.6483747647242624\n",
      "MAE: 5.664824969032909 +/- 0.05883862226937913\n",
      "RMSE: 10.534413481682895 +/- 0.0307265068738366\n"
     ]
    }
   ],
   "source": [
    "\n",
    "print(f'Results for {site_name} with {type(transform)} transform and {time_kind} time kind')\n",
    "print(f'MSE: {mse_arr.mean()} +/- {mse_arr.std()}')\n",
    "print(f'MAE: {mae_arr.mean()} +/- {mae_arr.std()}')\n",
    "print(f'RMSE: {rmse_arr.mean()} +/- {rmse_arr.std()}')"
   ]
  },
  {
   "cell_type": "code",
   "execution_count": 8,
   "metadata": {},
   "outputs": [],
   "source": [
    "best_model_idx = np.argmin(mse_arr)"
   ]
  },
  {
   "cell_type": "code",
   "execution_count": 9,
   "metadata": {},
   "outputs": [
    {
     "name": "stderr",
     "output_type": "stream",
     "text": [
      "GPU available: True (cuda), used: True\n",
      "TPU available: False, using: 0 TPU cores\n",
      "IPU available: False, using: 0 IPUs\n",
      "HPU available: False, using: 0 HPUs\n",
      "You are using a CUDA device ('NVIDIA GeForce RTX 3080 Ti') that has Tensor Cores. To properly utilize them, you should set `torch.set_float32_matmul_precision('medium' | 'high')` which will trade-off precision for performance. For more details, read https://pytorch.org/docs/stable/generated/torch.set_float32_matmul_precision.html#torch.set_float32_matmul_precision\n",
      "LOCAL_RANK: 0 - CUDA_VISIBLE_DEVICES: [0,1]\n"
     ]
    },
    {
     "name": "stdout",
     "output_type": "stream",
     "text": [
      "Predicting DataLoader 0: 100%|██████████| 64/64 [00:00<00:00, 114.79it/s]\n",
      "****BEFORE RF ZERO FIXING****\n",
      "-----------MSE----------\n",
      "Testing error: 144.45452043063372\n",
      "-----------RMSE----------\n",
      "Testing error: 12.018923430600335\n",
      "-----------MAPE----------\n",
      "Testing error: inf %\n",
      "-----------MAE----------\n",
      "Testing error: 7.06529898534989\n",
      "*****************************\n",
      " *** AFTER RF ZERO FIXING ****\n",
      "-----------MSE----------\n",
      "Testing error: 110.49999235380474\n",
      "-----------RMSE----------\n",
      "Testing error: 10.511897657121892\n",
      "-----------MAPE----------\n",
      "Testing error: nan %\n",
      "-----------MAE----------\n",
      "Testing error: 5.607978135704673\n",
      "*****************************\n"
     ]
    },
    {
     "name": "stderr",
     "output_type": "stream",
     "text": [
      "/tmp/ipykernel_3134155/205311161.py:24: RuntimeWarning: divide by zero encountered in divide\n",
      "  test_error_mape = (100 / y_test.shape[0]) * (np.absolute(y_test - y_pred_test) / y_test).sum()\n",
      "/tmp/ipykernel_3134155/205311161.py:24: RuntimeWarning: invalid value encountered in divide\n",
      "  test_error_mape = (100 / y_test.shape[0]) * (np.absolute(y_test - y_pred_test) / y_test).sum()\n"
     ]
    }
   ],
   "source": [
    "model_name = model_names[best_model_idx]\n",
    "checkpoint_dict = torch.load(model_name)\n",
    "model = NodeEncodedGCN_1l(\n",
    "    transform=checkpoint_dict['hyper_parameters']['transform'],\n",
    "    weight_decay=checkpoint_dict['hyper_parameters']['weight_decay'],\n",
    "    lr=checkpoint_dict['hyper_parameters']['lr'],\n",
    "    drop_p=checkpoint_dict['hyper_parameters']['drop_p'],\n",
    "    batch_size=checkpoint_dict['hyper_parameters']['batch_size'],\n",
    "    input_size=checkpoint_dict['hyper_parameters']['input_size'],\n",
    "    hidden_layers=checkpoint_dict['hyper_parameters']['hidden_layers'],\n",
    "    aggregation_function=checkpoint_dict['hyper_parameters']['aggregation_function'],\n",
    ")\n",
    "model = model.load_from_checkpoint(model_name)\n",
    "\n",
    "trainer = pl.Trainer(gpus=1)\n",
    "\n",
    "output = trainer.predict(model, dataloaders=data_module.test_dataloader())\n",
    "y_hat = np.concatenate([out[0] for out in output])\n",
    "y_true = np.concatenate([out[1] for out in output])\n",
    "\n",
    "\n",
    "print('****BEFORE RF ZERO FIXING****')\n",
    "simple_model_evaluation(y_true, y_hat)\n",
    "print('*****************************')\n",
    "\n",
    "y_hat_rf = np.zeros_like(y_hat)\n",
    "y_hat_rf[data_module_rf.non_zero_indices_test] = y_hat[data_module_rf.non_zero_indices_test]\n",
    "print(' *** AFTER RF ZERO FIXING ****')\n",
    "temp_res = simple_model_evaluation(y_hat_rf, y_true)\n",
    "results.append(temp_res)\n",
    "print('*****************************')\n",
    "\n",
    "df = pd.DataFrame({'y_true': y_true, 'y_hat': y_hat_rf, 'date': data_module.test_dates})\n",
    "df.to_csv(f'{model_name}_pred.csv', index=False)"
   ]
  },
  {
   "cell_type": "code",
   "execution_count": 10,
   "metadata": {},
   "outputs": [
    {
     "data": {
      "text/plain": [
       "<matplotlib.legend.Legend at 0x7fa368136e80>"
      ]
     },
     "execution_count": 10,
     "metadata": {},
     "output_type": "execute_result"
    },
    {
     "data": {
      "image/png": "[encoded data removed]",
      "text/plain": [
       "<Figure size 640x480 with 1 Axes>"
      ]
     },
     "metadata": {},
     "output_type": "display_data"
    }
   ],
   "source": [
    "fig, ax = plt.subplots()\n",
    "ax.hist(y_true, bins=100, alpha=0.75)\n",
    "ax.hist(y_hat, bins=100, alpha=0.75)\n",
    "ax.hist(y_hat_rf, bins=100, alpha=0.75)\n",
    "ax.legend(['y_true', 'y_hat', 'y_hat_rf'])"
   ]
  },
  {
   "cell_type": "code",
   "execution_count": 11,
   "metadata": {},
   "outputs": [
    {
     "name": "stderr",
     "output_type": "stream",
     "text": [
      "You are using a CUDA device ('NVIDIA GeForce RTX 3080 Ti') that has Tensor Cores. To properly utilize them, you should set `torch.set_float32_matmul_precision('medium' | 'high')` which will trade-off precision for performance. For more details, read https://pytorch.org/docs/stable/generated/torch.set_float32_matmul_precision.html#torch.set_float32_matmul_precision\n",
      "LOCAL_RANK: 0 - CUDA_VISIBLE_DEVICES: [0,1]\n",
      "/home/manity/SHOW_folder/SHOW_ML_Service/envs/show_env1/lib/python3.9/site-packages/pytorch_lightning/trainer/connectors/data_connector.py:224: PossibleUserWarning: The dataloader, predict_dataloader 0, does not have many workers which may be a bottleneck. Consider increasing the value of the `num_workers` argument` (try 48 which is the number of cpus on this machine) in the `DataLoader` init to improve performance.\n",
      "  rank_zero_warn(\n"
     ]
    },
    {
     "name": "stdout",
     "output_type": "stream",
     "text": [
      "Predicting DataLoader 0: 100%|██████████| 60/60 [00:00<00:00, 107.32it/s]\n",
      "****Safety check****\n",
      "ne_gcn-7422-07262048.ckpt\n",
      "-----------MSE----------\n",
      "Testing error: 116.70302292918736\n",
      "-----------RMSE----------\n",
      "Testing error: 10.802917334182807\n",
      "-----------MAPE----------\n",
      "Testing error: inf %\n",
      "-----------MAE----------\n",
      "Testing error: 5.956835274039717\n",
      "*****************************\n"
     ]
    },
    {
     "name": "stderr",
     "output_type": "stream",
     "text": [
      "/tmp/ipykernel_3134155/205311161.py:24: RuntimeWarning: divide by zero encountered in divide\n",
      "  test_error_mape = (100 / y_test.shape[0]) * (np.absolute(y_test - y_pred_test) / y_test).sum()\n"
     ]
    }
   ],
   "source": [
    "output = trainer.predict(model, dataloaders=data_module_rf.test_dataloader())\n",
    "y_hat = np.concatenate([out[0] for out in output])\n",
    "y_true = np.concatenate([out[1] for out in output])\n",
    "\n",
    "#df = pd.DataFrame({'y_true': y_true, 'y_hat': y_hat})\n",
    "#df.to_csv(f'{model_name}_pred.csv', index=False)\n",
    "\n",
    "print('****Safety check****')\n",
    "print(f'{model_names[best_model_idx]}')\n",
    "simple_model_evaluation(y_true, y_hat)\n",
    "print('*****************************')"
   ]
  },
  {
   "cell_type": "code",
   "execution_count": null,
   "metadata": {},
   "outputs": [],
   "source": []
  }
 ],
 "metadata": {
  "kernelspec": {
   "display_name": "show_env1",
   "language": "python",
   "name": "python3"
  },
  "language_info": {
   "codemirror_mode": {
    "name": "ipython",
    "version": 3
   },
   "file_extension": ".py",
   "mimetype": "text/x-python",
   "name": "python",
   "nbconvert_exporter": "python",
   "pygments_lexer": "ipython3",
   "version": "3.9.17"
  },
  "orig_nbformat": 4
 },
 "nbformat": 4,
 "nbformat_minor": 2
}
