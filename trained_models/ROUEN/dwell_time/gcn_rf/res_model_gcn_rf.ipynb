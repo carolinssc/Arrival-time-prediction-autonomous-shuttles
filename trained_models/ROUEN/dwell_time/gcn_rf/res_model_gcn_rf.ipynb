{
 "cells": [
  {
   "cell_type": "code",
   "execution_count": 1,
   "metadata": {},
   "outputs": [
    {
     "name": "stderr",
     "output_type": "stream",
     "text": [
      "/home/manity/SHOW_folder/SHOW_ML_Service/envs/show_env1/lib/python3.9/site-packages/tqdm/auto.py:21: TqdmWarning: IProgress not found. Please update jupyter and ipywidgets. See https://ipywidgets.readthedocs.io/en/stable/user_install.html\n",
      "  from .autonotebook import tqdm as notebook_tqdm\n"
     ]
    }
   ],
   "source": [
    "import sys\n",
    "sys.path.append('../../../../../src')\n",
    "import os\n",
    "import torch\n",
    "from pytorch_lightning.callbacks import ModelCheckpoint\n",
    "import pytorch_lightning as pl\n",
    "import numpy as np\n",
    "import matplotlib.pyplot as plt\n",
    "import pandas as pd\n",
    "\n",
    "from data.datamodule import SHOWDataModule\n",
    "from models.gcn_model import NodeEncodedGCN, NodeEncodedGCN_tt, NodeEncodedGCN_1l, NodeEncodedGCN_2l, NodeEncodedGCN_3l\n",
    "\n",
    "\n",
    "def simple_model_evaluation(y_test, y_pred_test):\n",
    "    # Simple model evaluation that computes and prints MSE, RMSE and MAPE for the training and testing set\n",
    "\n",
    "    # train_error_mse = np.square(y_train - y_pred_train).sum() / y_train.shape[0]\n",
    "    test_error_mse = np.square(y_test - y_pred_test).sum() / y_test.shape[0]\n",
    "\n",
    "    # train_error_mape = (100 / y_train.shape[0]) * (\n",
    "    #    np.absolute(y_train - y_pred_train) / y_train\n",
    "    # ).sum()  # y_train should never be 0 since the travel time in a segment cannot be 0\n",
    "    test_error_mape = (100 / y_test.shape[0]) * (np.absolute(y_test - y_pred_test) / y_test).sum()\n",
    "\n",
    "    test_error_mae = (1 / y_test.shape[0]) * (np.absolute(y_test - y_pred_test)).sum()\n",
    "    print(\"-----------MSE----------\")\n",
    "    # print(\"Training error: {}\".format(train_error_mse))\n",
    "    print(\"Testing error: {}\".format(test_error_mse))\n",
    "    print(\"-----------RMSE----------\")\n",
    "    # print(\"Training error: {}\".format(np.sqrt(train_error_mse)))\n",
    "    print(\"Testing error: {}\".format(np.sqrt(test_error_mse)))\n",
    "    print(\"-----------MAPE----------\")\n",
    "    # print(\"Training error: {:.2f} %\".format(train_error_mape))\n",
    "    print(\"Testing error: {:.2f} %\".format(test_error_mape))\n",
    "    print(\"-----------MAE----------\")\n",
    "    print(\"Testing error: {}\".format(test_error_mae))\n",
    "    return test_error_mse, np.sqrt(test_error_mse), test_error_mape, test_error_mae\n",
    "\n"
   ]
  },
  {
   "cell_type": "code",
   "execution_count": 2,
   "metadata": {},
   "outputs": [
    {
     "name": "stdout",
     "output_type": "stream",
     "text": [
      "** Removing zero obs based on RF classifier ***\n",
      "Confusion matrix train: [ 738    0    0 3537]\n",
      "Confusion matrix test: [ 73  10   2 487]\n"
     ]
    }
   ],
   "source": [
    "# Path for the checkpoint directory\n",
    "\n",
    "# Load the datamodule\n",
    "site_name = 'ROUEN_FILTERED'\n",
    "transform_type = 'maxmin'\n",
    "batch_size = 64\n",
    "empty_graph = False\n",
    "time_kind = 'dwell_times'\n",
    "data_module = SHOWDataModule(\n",
    "    site_name=site_name,\n",
    "    transform=transform_type,\n",
    "    num_lags=2,\n",
    "    train_frac=0.9,\n",
    "    batch_size=batch_size,\n",
    "    empty_graph=empty_graph,\n",
    "    verbose=False,\n",
    "    time_kind=time_kind,\n",
    ")\n",
    "transform = data_module.setup()\n",
    "\n",
    "data_module_rf = SHOWDataModule(\n",
    "    site_name=site_name,\n",
    "    transform=transform_type,\n",
    "    num_lags=2,\n",
    "    train_frac=0.9,\n",
    "    batch_size=batch_size,\n",
    "    empty_graph=empty_graph,\n",
    "    verbose=False,\n",
    "    time_kind=time_kind,\n",
    "    rf_remove_zero_obs=True,\n",
    "    \n",
    ")\n",
    "transform_rf = data_module_rf.setup()"
   ]
  },
  {
   "cell_type": "code",
   "execution_count": 3,
   "metadata": {},
   "outputs": [],
   "source": [
    "model_names = os.listdir('.')\n",
    "# remove any files that don't end with .ckpt\n",
    "model_names = [name for name in model_names if name.endswith('.ckpt')]"
   ]
  },
  {
   "cell_type": "code",
   "execution_count": 4,
   "metadata": {},
   "outputs": [
    {
     "data": {
      "text/plain": [
       "['ne_gcn-3163-07271703.ckpt',\n",
       " 'ne_gcn-4113-07271703.ckpt',\n",
       " 'ne_gcn-2525-07271703.ckpt',\n",
       " 'ne_gcn-9700-07271703.ckpt']"
      ]
     },
     "execution_count": 4,
     "metadata": {},
     "output_type": "execute_result"
    }
   ],
   "source": [
    "model_names"
   ]
  },
  {
   "cell_type": "code",
   "execution_count": 5,
   "metadata": {},
   "outputs": [
    {
     "name": "stdout",
     "output_type": "stream",
     "text": [
      "ne_gcn-3163-07271703.ckpt\n"
     ]
    },
    {
     "name": "stderr",
     "output_type": "stream",
     "text": [
      "/home/manity/SHOW_folder/SHOW_ML_Service/envs/show_env1/lib/python3.9/site-packages/pytorch_lightning/trainer/connectors/accelerator_connector.py:478: LightningDeprecationWarning: Setting `Trainer(gpus=1)` is deprecated in v1.7 and will be removed in v2.0. Please use `Trainer(accelerator='gpu', devices=1)` instead.\n",
      "  rank_zero_deprecation(\n",
      "GPU available: True (cuda), used: True\n",
      "TPU available: False, using: 0 TPU cores\n",
      "IPU available: False, using: 0 IPUs\n",
      "HPU available: False, using: 0 HPUs\n",
      "You are using a CUDA device ('NVIDIA GeForce RTX 3080 Ti') that has Tensor Cores. To properly utilize them, you should set `torch.set_float32_matmul_precision('medium' | 'high')` which will trade-off precision for performance. For more details, read https://pytorch.org/docs/stable/generated/torch.set_float32_matmul_precision.html#torch.set_float32_matmul_precision\n",
      "LOCAL_RANK: 0 - CUDA_VISIBLE_DEVICES: [0,1]\n",
      "/home/manity/SHOW_folder/SHOW_ML_Service/envs/show_env1/lib/python3.9/site-packages/pytorch_lightning/trainer/connectors/data_connector.py:224: PossibleUserWarning: The dataloader, predict_dataloader 0, does not have many workers which may be a bottleneck. Consider increasing the value of the `num_workers` argument` (try 48 which is the number of cpus on this machine) in the `DataLoader` init to improve performance.\n",
      "  rank_zero_warn(\n"
     ]
    },
    {
     "name": "stdout",
     "output_type": "stream",
     "text": [
      "Predicting DataLoader 0: 100%|██████████| 9/9 [00:00<00:00, 11.76it/s]"
     ]
    },
    {
     "name": "stderr",
     "output_type": "stream",
     "text": [
      "/tmp/ipykernel_3945420/205311161.py:24: RuntimeWarning: divide by zero encountered in divide\n",
      "  test_error_mape = (100 / y_test.shape[0]) * (np.absolute(y_test - y_pred_test) / y_test).sum()\n",
      "/tmp/ipykernel_3945420/205311161.py:24: RuntimeWarning: invalid value encountered in divide\n",
      "  test_error_mape = (100 / y_test.shape[0]) * (np.absolute(y_test - y_pred_test) / y_test).sum()\n",
      "GPU available: True (cuda), used: True\n",
      "TPU available: False, using: 0 TPU cores\n",
      "IPU available: False, using: 0 IPUs\n",
      "HPU available: False, using: 0 HPUs\n",
      "You are using a CUDA device ('NVIDIA GeForce RTX 3080 Ti') that has Tensor Cores. To properly utilize them, you should set `torch.set_float32_matmul_precision('medium' | 'high')` which will trade-off precision for performance. For more details, read https://pytorch.org/docs/stable/generated/torch.set_float32_matmul_precision.html#torch.set_float32_matmul_precision\n",
      "LOCAL_RANK: 0 - CUDA_VISIBLE_DEVICES: [0,1]\n"
     ]
    },
    {
     "name": "stdout",
     "output_type": "stream",
     "text": [
      "\n",
      "****BEFORE RF ZERO FIXING****\n",
      "-----------MSE----------\n",
      "Testing error: 135.16288789335664\n",
      "-----------RMSE----------\n",
      "Testing error: 11.625957504367399\n",
      "-----------MAPE----------\n",
      "Testing error: inf %\n",
      "-----------MAE----------\n",
      "Testing error: 6.663041548295454\n",
      "*****************************\n",
      " *** AFTER RF ZERO FIXING ****\n",
      "-----------MSE----------\n",
      "Testing error: 70.72862489073427\n",
      "-----------RMSE----------\n",
      "Testing error: 8.410031206287778\n",
      "-----------MAPE----------\n",
      "Testing error: nan %\n",
      "-----------MAE----------\n",
      "Testing error: 3.7750192922312062\n",
      "*****************************\n",
      "ne_gcn-4113-07271703.ckpt\n",
      "Predicting DataLoader 0: 100%|██████████| 9/9 [00:00<00:00, 55.51it/s] "
     ]
    },
    {
     "name": "stderr",
     "output_type": "stream",
     "text": [
      "GPU available: True (cuda), used: True\n",
      "TPU available: False, using: 0 TPU cores\n",
      "IPU available: False, using: 0 IPUs\n",
      "HPU available: False, using: 0 HPUs\n",
      "You are using a CUDA device ('NVIDIA GeForce RTX 3080 Ti') that has Tensor Cores. To properly utilize them, you should set `torch.set_float32_matmul_precision('medium' | 'high')` which will trade-off precision for performance. For more details, read https://pytorch.org/docs/stable/generated/torch.set_float32_matmul_precision.html#torch.set_float32_matmul_precision\n",
      "LOCAL_RANK: 0 - CUDA_VISIBLE_DEVICES: [0,1]\n"
     ]
    },
    {
     "name": "stdout",
     "output_type": "stream",
     "text": [
      "\n",
      "****BEFORE RF ZERO FIXING****\n",
      "-----------MSE----------\n",
      "Testing error: 143.4352190777972\n",
      "-----------RMSE----------\n",
      "Testing error: 11.976444342032288\n",
      "-----------MAPE----------\n",
      "Testing error: inf %\n",
      "-----------MAE----------\n",
      "Testing error: 7.124366600196678\n",
      "*****************************\n",
      " *** AFTER RF ZERO FIXING ****\n",
      "-----------MSE----------\n",
      "Testing error: 73.01451868444056\n",
      "-----------RMSE----------\n",
      "Testing error: 8.544853344817602\n",
      "-----------MAPE----------\n",
      "Testing error: nan %\n",
      "-----------MAE----------\n",
      "Testing error: 4.120129138439685\n",
      "*****************************\n",
      "ne_gcn-2525-07271703.ckpt\n",
      "Predicting DataLoader 0: 100%|██████████| 9/9 [00:00<00:00, 54.57it/s] "
     ]
    },
    {
     "name": "stderr",
     "output_type": "stream",
     "text": [
      "GPU available: True (cuda), used: True\n",
      "TPU available: False, using: 0 TPU cores\n",
      "IPU available: False, using: 0 IPUs\n",
      "HPU available: False, using: 0 HPUs\n",
      "You are using a CUDA device ('NVIDIA GeForce RTX 3080 Ti') that has Tensor Cores. To properly utilize them, you should set `torch.set_float32_matmul_precision('medium' | 'high')` which will trade-off precision for performance. For more details, read https://pytorch.org/docs/stable/generated/torch.set_float32_matmul_precision.html#torch.set_float32_matmul_precision\n",
      "LOCAL_RANK: 0 - CUDA_VISIBLE_DEVICES: [0,1]\n"
     ]
    },
    {
     "name": "stdout",
     "output_type": "stream",
     "text": [
      "\n",
      "****BEFORE RF ZERO FIXING****\n",
      "-----------MSE----------\n",
      "Testing error: 161.46097847465035\n",
      "-----------RMSE----------\n",
      "Testing error: 12.70672965300869\n",
      "-----------MAPE----------\n",
      "Testing error: inf %\n",
      "-----------MAE----------\n",
      "Testing error: 7.313409978693182\n",
      "*****************************\n",
      " *** AFTER RF ZERO FIXING ****\n",
      "-----------MSE----------\n",
      "Testing error: 72.40490466564685\n",
      "-----------RMSE----------\n",
      "Testing error: 8.509107160310467\n",
      "-----------MAPE----------\n",
      "Testing error: nan %\n",
      "-----------MAE----------\n",
      "Testing error: 3.9308663748361012\n",
      "*****************************\n",
      "ne_gcn-9700-07271703.ckpt\n",
      "Predicting DataLoader 0: 100%|██████████| 9/9 [00:00<00:00, 56.47it/s] \n",
      "****BEFORE RF ZERO FIXING****\n",
      "-----------MSE----------\n",
      "Testing error: 144.40463833041957\n",
      "-----------RMSE----------\n",
      "Testing error: 12.016848102993546\n",
      "-----------MAPE----------\n",
      "Testing error: inf %\n",
      "-----------MAE----------\n",
      "Testing error: 7.07859706211757\n",
      "*****************************\n",
      " *** AFTER RF ZERO FIXING ****\n",
      "-----------MSE----------\n",
      "Testing error: 73.99508304195804\n",
      "-----------RMSE----------\n",
      "Testing error: 8.602039469913983\n",
      "-----------MAPE----------\n",
      "Testing error: nan %\n",
      "-----------MAE----------\n",
      "Testing error: 4.072248552229021\n",
      "*****************************\n"
     ]
    }
   ],
   "source": [
    "results = []\n",
    "# Load model checkpoint\n",
    "for model_name in model_names:\n",
    "    print(model_name)\n",
    "    checkpoint_dict = torch.load(model_name)\n",
    "    model = NodeEncodedGCN_1l(\n",
    "        transform=checkpoint_dict['hyper_parameters']['transform'],\n",
    "        weight_decay=checkpoint_dict['hyper_parameters']['weight_decay'],\n",
    "        lr=checkpoint_dict['hyper_parameters']['lr'],\n",
    "        drop_p=checkpoint_dict['hyper_parameters']['drop_p'],\n",
    "        batch_size=checkpoint_dict['hyper_parameters']['batch_size'],\n",
    "        input_size=checkpoint_dict['hyper_parameters']['input_size'],\n",
    "        hidden_layers=checkpoint_dict['hyper_parameters']['hidden_layers'],\n",
    "        aggregation_function=checkpoint_dict['hyper_parameters']['aggregation_function'],\n",
    "    )\n",
    "    model = model.load_from_checkpoint(model_name)\n",
    "\n",
    "    trainer = pl.Trainer(gpus=1)\n",
    "\n",
    "    output = trainer.predict(model, dataloaders=data_module.test_dataloader())\n",
    "    y_hat = np.concatenate([out[0] for out in output])\n",
    "    y_true = np.concatenate([out[1] for out in output])\n",
    "\n",
    "    #df = pd.DataFrame({'y_true': y_true, 'y_hat': y_hat})\n",
    "    #df.to_csv(f'{model_name}_pred.csv', index=False)\n",
    "\n",
    "    print('****BEFORE RF ZERO FIXING****')\n",
    "    simple_model_evaluation(y_true, y_hat)\n",
    "    print('*****************************')\n",
    "\n",
    "    y_hat_rf = np.zeros_like(y_hat)\n",
    "    y_hat_rf[data_module_rf.non_zero_indices_test] = y_hat[data_module_rf.non_zero_indices_test]\n",
    "    print(' *** AFTER RF ZERO FIXING ****')\n",
    "    temp_res = simple_model_evaluation(y_hat_rf, y_true)\n",
    "    results.append(temp_res)\n",
    "    print('*****************************')"
   ]
  },
  {
   "cell_type": "code",
   "execution_count": 6,
   "metadata": {},
   "outputs": [],
   "source": [
    "results\n",
    "mse_arr = np.array([res[0] for res in results])\n",
    "rmse_arr = np.array([res[1] for res in results])\n",
    "mape_arr = np.array([res[2] for res in results])\n",
    "mae_arr = np.array([res[3] for res in results])"
   ]
  },
  {
   "cell_type": "code",
   "execution_count": 7,
   "metadata": {},
   "outputs": [
    {
     "name": "stdout",
     "output_type": "stream",
     "text": [
      "Results for ROUEN_FILTERED with <class 'data.datamodule.MaxMin'> transform and dwell_times time kind\n",
      "MSE: 72.53578282069493 +/- 1.1876125250164018\n",
      "MAE: 3.9745658394340033 +/- 0.13459109749823053\n",
      "RMSE: 8.516507795332458 +/- 0.06984119655628221\n"
     ]
    }
   ],
   "source": [
    "\n",
    "print(f'Results for {site_name} with {type(transform)} transform and {time_kind} time kind')\n",
    "print(f'MSE: {mse_arr.mean()} +/- {mse_arr.std()}')\n",
    "print(f'MAE: {mae_arr.mean()} +/- {mae_arr.std()}')\n",
    "print(f'RMSE: {rmse_arr.mean()} +/- {rmse_arr.std()}')"
   ]
  },
  {
   "cell_type": "code",
   "execution_count": 8,
   "metadata": {},
   "outputs": [],
   "source": [
    "best_model_idx = np.argmin(mse_arr)"
   ]
  },
  {
   "cell_type": "code",
   "execution_count": 9,
   "metadata": {},
   "outputs": [
    {
     "name": "stderr",
     "output_type": "stream",
     "text": [
      "GPU available: True (cuda), used: True\n",
      "TPU available: False, using: 0 TPU cores\n",
      "IPU available: False, using: 0 IPUs\n",
      "HPU available: False, using: 0 HPUs\n",
      "You are using a CUDA device ('NVIDIA GeForce RTX 3080 Ti') that has Tensor Cores. To properly utilize them, you should set `torch.set_float32_matmul_precision('medium' | 'high')` which will trade-off precision for performance. For more details, read https://pytorch.org/docs/stable/generated/torch.set_float32_matmul_precision.html#torch.set_float32_matmul_precision\n",
      "LOCAL_RANK: 0 - CUDA_VISIBLE_DEVICES: [0,1]\n"
     ]
    },
    {
     "name": "stdout",
     "output_type": "stream",
     "text": [
      "Predicting DataLoader 0: 100%|██████████| 9/9 [00:00<00:00, 55.92it/s] \n",
      "****BEFORE RF ZERO FIXING****\n",
      "-----------MSE----------\n",
      "Testing error: 135.16288789335664\n",
      "-----------RMSE----------\n",
      "Testing error: 11.625957504367399\n",
      "-----------MAPE----------\n",
      "Testing error: inf %\n",
      "-----------MAE----------\n",
      "Testing error: 6.663041548295454\n",
      "*****************************\n",
      " *** AFTER RF ZERO FIXING ****\n",
      "-----------MSE----------\n",
      "Testing error: 70.72862489073427\n",
      "-----------RMSE----------\n",
      "Testing error: 8.410031206287778\n",
      "-----------MAPE----------\n",
      "Testing error: nan %\n",
      "-----------MAE----------\n",
      "Testing error: 3.7750192922312062\n",
      "*****************************\n"
     ]
    },
    {
     "name": "stderr",
     "output_type": "stream",
     "text": [
      "/tmp/ipykernel_3945420/205311161.py:24: RuntimeWarning: divide by zero encountered in divide\n",
      "  test_error_mape = (100 / y_test.shape[0]) * (np.absolute(y_test - y_pred_test) / y_test).sum()\n",
      "/tmp/ipykernel_3945420/205311161.py:24: RuntimeWarning: invalid value encountered in divide\n",
      "  test_error_mape = (100 / y_test.shape[0]) * (np.absolute(y_test - y_pred_test) / y_test).sum()\n"
     ]
    }
   ],
   "source": [
    "model_name = model_names[best_model_idx]\n",
    "checkpoint_dict = torch.load(model_name)\n",
    "model = NodeEncodedGCN_1l(\n",
    "    transform=checkpoint_dict['hyper_parameters']['transform'],\n",
    "    weight_decay=checkpoint_dict['hyper_parameters']['weight_decay'],\n",
    "    lr=checkpoint_dict['hyper_parameters']['lr'],\n",
    "    drop_p=checkpoint_dict['hyper_parameters']['drop_p'],\n",
    "    batch_size=checkpoint_dict['hyper_parameters']['batch_size'],\n",
    "    input_size=checkpoint_dict['hyper_parameters']['input_size'],\n",
    "    hidden_layers=checkpoint_dict['hyper_parameters']['hidden_layers'],\n",
    "    aggregation_function=checkpoint_dict['hyper_parameters']['aggregation_function'],\n",
    ")\n",
    "model = model.load_from_checkpoint(model_name)\n",
    "\n",
    "trainer = pl.Trainer(gpus=1)\n",
    "\n",
    "output = trainer.predict(model, dataloaders=data_module.test_dataloader())\n",
    "y_hat = np.concatenate([out[0] for out in output])\n",
    "y_true = np.concatenate([out[1] for out in output])\n",
    "\n",
    "#df = pd.DataFrame({'y_true': y_true, 'y_hat': y_hat})\n",
    "#df.to_csv(f'{model_name}_pred.csv', index=False)\n",
    "\n",
    "print('****BEFORE RF ZERO FIXING****')\n",
    "simple_model_evaluation(y_true, y_hat)\n",
    "print('*****************************')\n",
    "\n",
    "y_hat_rf = np.zeros_like(y_hat)\n",
    "y_hat_rf[data_module_rf.non_zero_indices_test] = y_hat[data_module_rf.non_zero_indices_test]\n",
    "print(' *** AFTER RF ZERO FIXING ****')\n",
    "temp_res = simple_model_evaluation(y_hat_rf, y_true)\n",
    "results.append(temp_res)\n",
    "print('*****************************')\n",
    "\n",
    "df = pd.DataFrame({'y_true': y_true, 'y_hat': y_hat_rf, 'date': data_module.test_dates})\n",
    "df.to_csv(f'{model_name}_pred.csv', index=False)"
   ]
  },
  {
   "cell_type": "code",
   "execution_count": 10,
   "metadata": {},
   "outputs": [
    {
     "data": {
      "text/plain": [
       "<matplotlib.legend.Legend at 0x7f33eaa35760>"
      ]
     },
     "execution_count": 10,
     "metadata": {},
     "output_type": "execute_result"
    },
    {
     "data": {
      "image/png": "[encoded data removed]",
      "text/plain": [
       "<Figure size 640x480 with 1 Axes>"
      ]
     },
     "metadata": {},
     "output_type": "display_data"
    }
   ],
   "source": [
    "fig, ax = plt.subplots()\n",
    "ax.hist(y_true, bins=100, alpha=0.75)\n",
    "ax.hist(y_hat, bins=100, alpha=0.75)\n",
    "ax.hist(y_hat_rf, bins=100, alpha=0.75)\n",
    "ax.legend(['y_true', 'y_hat', 'y_hat_rf'])"
   ]
  },
  {
   "cell_type": "code",
   "execution_count": 11,
   "metadata": {},
   "outputs": [
    {
     "name": "stderr",
     "output_type": "stream",
     "text": [
      "You are using a CUDA device ('NVIDIA GeForce RTX 3080 Ti') that has Tensor Cores. To properly utilize them, you should set `torch.set_float32_matmul_precision('medium' | 'high')` which will trade-off precision for performance. For more details, read https://pytorch.org/docs/stable/generated/torch.set_float32_matmul_precision.html#torch.set_float32_matmul_precision\n",
      "LOCAL_RANK: 0 - CUDA_VISIBLE_DEVICES: [0,1]\n",
      "/home/manity/SHOW_folder/SHOW_ML_Service/envs/show_env1/lib/python3.9/site-packages/pytorch_lightning/trainer/connectors/data_connector.py:224: PossibleUserWarning: The dataloader, predict_dataloader 0, does not have many workers which may be a bottleneck. Consider increasing the value of the `num_workers` argument` (try 48 which is the number of cpus on this machine) in the `DataLoader` init to improve performance.\n",
      "  rank_zero_warn(\n"
     ]
    },
    {
     "name": "stdout",
     "output_type": "stream",
     "text": [
      "Predicting DataLoader 0: 100%|██████████| 8/8 [00:00<00:00, 53.32it/s] \n",
      "****Safety check****\n",
      "ne_gcn-3163-07271703.ckpt\n",
      "-----------MSE----------\n",
      "Testing error: 74.92912946428571\n",
      "-----------RMSE----------\n",
      "Testing error: 8.656161358494058\n",
      "-----------MAPE----------\n",
      "Testing error: inf %\n",
      "-----------MAE----------\n",
      "Testing error: 4.213905503332495\n",
      "*****************************\n"
     ]
    },
    {
     "name": "stderr",
     "output_type": "stream",
     "text": [
      "/tmp/ipykernel_3945420/205311161.py:24: RuntimeWarning: divide by zero encountered in divide\n",
      "  test_error_mape = (100 / y_test.shape[0]) * (np.absolute(y_test - y_pred_test) / y_test).sum()\n"
     ]
    }
   ],
   "source": [
    "\n",
    "output = trainer.predict(model, dataloaders=data_module_rf.test_dataloader())\n",
    "y_hat = np.concatenate([out[0] for out in output])\n",
    "y_true = np.concatenate([out[1] for out in output])\n",
    "\n",
    "#df = pd.DataFrame({'y_true': y_true, 'y_hat': y_hat})\n",
    "#df.to_csv(f'{model_name}_pred.csv', index=False)\n",
    "\n",
    "print('****Safety check****')\n",
    "print(f'{model_names[best_model_idx]}')\n",
    "simple_model_evaluation(y_true, y_hat)\n",
    "print('*****************************')"
   ]
  },
  {
   "cell_type": "code",
   "execution_count": null,
   "metadata": {},
   "outputs": [],
   "source": []
  }
 ],
 "metadata": {
  "kernelspec": {
   "display_name": "show_env1",
   "language": "python",
   "name": "python3"
  },
  "language_info": {
   "codemirror_mode": {
    "name": "ipython",
    "version": 3
   },
   "file_extension": ".py",
   "mimetype": "text/x-python",
   "name": "python",
   "nbconvert_exporter": "python",
   "pygments_lexer": "ipython3",
   "version": "3.9.17"
  },
  "orig_nbformat": 4
 },
 "nbformat": 4,
 "nbformat_minor": 2
}
